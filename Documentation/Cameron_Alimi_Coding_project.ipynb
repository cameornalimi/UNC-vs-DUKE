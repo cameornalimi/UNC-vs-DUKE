{
  "nbformat": 4,
  "nbformat_minor": 0,
  "metadata": {
    "colab": {
      "provenance": []
    },
    "kernelspec": {
      "name": "python3",
      "display_name": "Python 3"
    },
    "language_info": {
      "name": "python"
    }
  },
  "cells": [
    {
      "cell_type": "markdown",
      "source": [
        "# How to Create a Dataframe comparing Sports Costs and Revenues\n",
        "This notebook will walk you through a tutorial on how to gather a subset of data relating to School Sport Equity using Google Colab. We are asking ourselves the question: Does Football or Basketball have produce more revenue when comparing UNC Chapel Hill and Duke University? Also, which sport has more costs at those schools?\n",
        "## Overview of Tutorial\n",
        "Be sure that you have access to Google Collab on your computer to get started. When you get on collab, start a new notebook  \n",
        "\n",
        "Outline of tutorial\n",
        "1. Mounting Google drive\n",
        "2. importing the pandas package and numpy\n",
        "3. creating a dataframe\n",
        "4. exploring our dataframe's attributes\n",
        "5. filtering our dataframe\n",
        "6. exporting our new .csv file\n",
        "\n",
        "## Mounting Google Drive\n",
        "The best way to set up persistent access to your data with Colab is to mount your google drive in the notebook, and ensure that the .csv files you're working with are stored there.\n",
        "\n",
        "We can do this by running the following code:"
      ],
      "metadata": {
        "id": "hBgKQwKB3-CU"
      }
    },
    {
      "cell_type": "code",
      "source": [
        "from google.colab import drive\n",
        "drive.mount('/content/gdrive')"
      ],
      "metadata": {
        "colab": {
          "base_uri": "https://localhost:8080/"
        },
        "id": "30I0366w4YGy",
        "outputId": "b5f040e1-01cd-4c4f-fca4-b3279cd4ffc9"
      },
      "execution_count": 2,
      "outputs": [
        {
          "output_type": "stream",
          "name": "stdout",
          "text": [
            "Mounted at /content/gdrive\n"
          ]
        }
      ]
    },
    {
      "cell_type": "markdown",
      "source": [
        "### Numpy\n",
        "Numpy will help us compute math more easily.\n",
        "\n",
        "### Importing\n",
        "Begin by importing the pandas package using the following command: Type in your cell import `pandas as pd` and `import numpy as np`. Then, shift return/enter to run the code. Shown below:"
      ],
      "metadata": {
        "id": "FSfjOFqR5Iwh"
      }
    },
    {
      "cell_type": "code",
      "source": [
        "import numpy as np\n",
        "import pandas as pd"
      ],
      "metadata": {
        "id": "JYySD3Vx5KgU"
      },
      "execution_count": 3,
      "outputs": []
    },
    {
      "cell_type": "markdown",
      "source": [
        "## Create your dataframe\n",
        "###### By now, you should have  downloaded the csv file \"All_Data_Combined_2022\". NOTE: make sure that your csv file is saved in the same working directory as your .ipynb notebook file that you will use.\n",
        "\n",
        "Remember that Colab Notebooks automatically set your working directory to the folder where the .ipynb is saved.\n",
        "If a file is located in your working directory, its relative path is just the name of the file!\n",
        "\n",
        "## How To Code Your Dataframe\n",
        "`pd.read_csv` reads the tabular data from a Comma Separated Values (csv) file into a dataframe object that we'll define as df.\n",
        "\n",
        "To create our dataframe object we'll define our object `df` by executing the `pd.read_csv()`function on our data file by inserting the relative file path into the parathenses.\n",
        "\n",
        "Your code should look like this:"
      ],
      "metadata": {
        "id": "BiAefeoi5OUt"
      }
    },
    {
      "cell_type": "code",
      "source": [
        "df = pd.read_csv(\"All_Data_Combined_2022.csv\")"
      ],
      "metadata": {
        "id": "s_kcjK615gOc"
      },
      "execution_count": 6,
      "outputs": []
    },
    {
      "cell_type": "markdown",
      "source": [
        "## Exploring The Attributes of Your Dataframe\n",
        "\n",
        "A good first step in exploring our dataframe is to examine some of its basic attributes. Attributes contain values that provide helpful information about the dataframe, that guide our interaction with the dataframe. In pandas, we access attributes with the following syntax:\n",
        "\n",
        "`<DataFrame name>.<attribute name>`\n",
        "\n",
        "We can use the `.shape` attribute to determine how many rows and columns (in that order) are available. The `.size` attribute gives us the number of cells in the dataframe (rows * columns)."
      ],
      "metadata": {
        "id": "vWfoIDi26Ad_"
      }
    },
    {
      "cell_type": "code",
      "source": [
        "df.shape"
      ],
      "metadata": {
        "colab": {
          "base_uri": "https://localhost:8080/"
        },
        "id": "qDw6jzbx6JoL",
        "outputId": "c17ac6dd-4754-45c2-f22a-898815a8a59e"
      },
      "execution_count": 7,
      "outputs": [
        {
          "output_type": "execute_result",
          "data": {
            "text/plain": [
              "(1329, 710)"
            ]
          },
          "metadata": {},
          "execution_count": 7
        }
      ]
    },
    {
      "cell_type": "markdown",
      "source": [
        "(1329, 710)  With this large dataframe, filtering will be necessary for the specific information we want.\n",
        "\n",
        "## Other useful attributes include:\n",
        "\n",
        "`.columns` provides the column names for the Dataframe\n"
      ],
      "metadata": {
        "id": "IHln1ea66OJt"
      }
    },
    {
      "cell_type": "code",
      "source": [
        "df.columns"
      ],
      "metadata": {
        "colab": {
          "base_uri": "https://localhost:8080/"
        },
        "id": "KtBcjyQN6p6E",
        "outputId": "2d64ba23-78d9-494c-ea06-6401ec8737bd"
      },
      "execution_count": 8,
      "outputs": [
        {
          "output_type": "execute_result",
          "data": {
            "text/plain": [
              "Index(['Survey Year', 'UNITID', 'OPE ID', 'Institution Name', 'State CD',\n",
              "       'Classification Name', 'Classification Other', 'Sanction Code',\n",
              "       'Sanction Name', 'Male Undergraduates',\n",
              "       ...\n",
              "       'Wrestling Total Expenses', 'Other Sports Men's Team Expenses',\n",
              "       'Other Sports Women's Team Expenses', 'Other Sports Coed Team Expenses',\n",
              "       'Other Sports Total Expenses', 'Total Men's Team Expenses',\n",
              "       'Total Women's Team Expenses', 'Total Coed Team Expenses',\n",
              "       'Not Allocated by Gender/Sport Expenses', 'Grand Total Expenses'],\n",
              "      dtype='object', length=710)"
            ]
          },
          "metadata": {},
          "execution_count": 8
        }
      ]
    },
    {
      "cell_type": "markdown",
      "source": [
        "We can use indexing to sort out certain columns and rows that we want to explore further.\n",
        "\n",
        "We will run the code `df[columnnames][rows]`\n",
        "\n",
        "When coding this, we use square brackets. We also will use quotations around the name of columns that we want to explore. When determining how many rows, we will use a colon to give a range.\n",
        "\n",
        "Example: Let's run the code"
      ],
      "metadata": {
        "id": "BfVi5DI56wut"
      }
    },
    {
      "cell_type": "code",
      "source": [
        "df[\"Male Undergraduates\"][0:9]"
      ],
      "metadata": {
        "colab": {
          "base_uri": "https://localhost:8080/"
        },
        "id": "QC_86_le7A9w",
        "outputId": "d3b31029-8e42-4bc6-bf01-b94e2869d91b"
      },
      "execution_count": 9,
      "outputs": [
        {
          "output_type": "execute_result",
          "data": {
            "text/plain": [
              "0    1163\n",
              "1    1016\n",
              "2     584\n",
              "3    1531\n",
              "4     903\n",
              "5    1936\n",
              "6    1095\n",
              "7    1180\n",
              "8     367\n",
              "Name: Male Undergraduates, dtype: int64"
            ]
          },
          "metadata": {},
          "execution_count": 9
        }
      ]
    },
    {
      "cell_type": "markdown",
      "source": [
        "## Let's start creating a dataframe for our question\n",
        "\n",
        "We can start by finding where Chapel Hill and Duke are located On the CSV file\n",
        "\n",
        "Duke is located at:"
      ],
      "metadata": {
        "id": "WxD5yr127XCQ"
      }
    },
    {
      "cell_type": "code",
      "source": [
        "df[288:289]"
      ],
      "metadata": {
        "colab": {
          "base_uri": "https://localhost:8080/",
          "height": 217
        },
        "id": "S7LAYou77YJ2",
        "outputId": "9a0a325a-3989-4a40-9d3c-27cb9344218e"
      },
      "execution_count": 10,
      "outputs": [
        {
          "output_type": "execute_result",
          "data": {
            "text/plain": [
              "     Survey Year  UNITID  OPE ID Institution Name State CD  \\\n",
              "288         2022  198419  292000  Duke University       NC   \n",
              "\n",
              "     Classification Name Classification Other  Sanction Code Sanction Name  \\\n",
              "288  NCAA Division I-FBS                  NaN              1          NCAA   \n",
              "\n",
              "     Male Undergraduates  ...  Wrestling Total Expenses  \\\n",
              "288                 3114  ...                  579689.0   \n",
              "\n",
              "     Other Sports Men's Team Expenses  Other Sports Women's Team Expenses  \\\n",
              "288                               NaN                                 NaN   \n",
              "\n",
              "     Other Sports Coed Team Expenses  Other Sports Total Expenses  \\\n",
              "288                              NaN                          NaN   \n",
              "\n",
              "     Total Men's Team Expenses  Total Women's Team Expenses  \\\n",
              "288                   76574936                     32005219   \n",
              "\n",
              "     Total Coed Team Expenses  Not Allocated by Gender/Sport Expenses  \\\n",
              "288                       NaN                                42185743   \n",
              "\n",
              "     Grand Total Expenses  \n",
              "288             150765898  \n",
              "\n",
              "[1 rows x 710 columns]"
            ],
            "text/html": [
              "\n",
              "  <div id=\"df-50d48c72-71f3-4533-ab97-daef17e49648\" class=\"colab-df-container\">\n",
              "    <div>\n",
              "<style scoped>\n",
              "    .dataframe tbody tr th:only-of-type {\n",
              "        vertical-align: middle;\n",
              "    }\n",
              "\n",
              "    .dataframe tbody tr th {\n",
              "        vertical-align: top;\n",
              "    }\n",
              "\n",
              "    .dataframe thead th {\n",
              "        text-align: right;\n",
              "    }\n",
              "</style>\n",
              "<table border=\"1\" class=\"dataframe\">\n",
              "  <thead>\n",
              "    <tr style=\"text-align: right;\">\n",
              "      <th></th>\n",
              "      <th>Survey Year</th>\n",
              "      <th>UNITID</th>\n",
              "      <th>OPE ID</th>\n",
              "      <th>Institution Name</th>\n",
              "      <th>State CD</th>\n",
              "      <th>Classification Name</th>\n",
              "      <th>Classification Other</th>\n",
              "      <th>Sanction Code</th>\n",
              "      <th>Sanction Name</th>\n",
              "      <th>Male Undergraduates</th>\n",
              "      <th>...</th>\n",
              "      <th>Wrestling Total Expenses</th>\n",
              "      <th>Other Sports Men's Team Expenses</th>\n",
              "      <th>Other Sports Women's Team Expenses</th>\n",
              "      <th>Other Sports Coed Team Expenses</th>\n",
              "      <th>Other Sports Total Expenses</th>\n",
              "      <th>Total Men's Team Expenses</th>\n",
              "      <th>Total Women's Team Expenses</th>\n",
              "      <th>Total Coed Team Expenses</th>\n",
              "      <th>Not Allocated by Gender/Sport Expenses</th>\n",
              "      <th>Grand Total Expenses</th>\n",
              "    </tr>\n",
              "  </thead>\n",
              "  <tbody>\n",
              "    <tr>\n",
              "      <th>288</th>\n",
              "      <td>2022</td>\n",
              "      <td>198419</td>\n",
              "      <td>292000</td>\n",
              "      <td>Duke University</td>\n",
              "      <td>NC</td>\n",
              "      <td>NCAA Division I-FBS</td>\n",
              "      <td>NaN</td>\n",
              "      <td>1</td>\n",
              "      <td>NCAA</td>\n",
              "      <td>3114</td>\n",
              "      <td>...</td>\n",
              "      <td>579689.0</td>\n",
              "      <td>NaN</td>\n",
              "      <td>NaN</td>\n",
              "      <td>NaN</td>\n",
              "      <td>NaN</td>\n",
              "      <td>76574936</td>\n",
              "      <td>32005219</td>\n",
              "      <td>NaN</td>\n",
              "      <td>42185743</td>\n",
              "      <td>150765898</td>\n",
              "    </tr>\n",
              "  </tbody>\n",
              "</table>\n",
              "<p>1 rows × 710 columns</p>\n",
              "</div>\n",
              "    <div class=\"colab-df-buttons\">\n",
              "\n",
              "  <div class=\"colab-df-container\">\n",
              "    <button class=\"colab-df-convert\" onclick=\"convertToInteractive('df-50d48c72-71f3-4533-ab97-daef17e49648')\"\n",
              "            title=\"Convert this dataframe to an interactive table.\"\n",
              "            style=\"display:none;\">\n",
              "\n",
              "  <svg xmlns=\"http://www.w3.org/2000/svg\" height=\"24px\" viewBox=\"0 -960 960 960\">\n",
              "    <path d=\"M120-120v-720h720v720H120Zm60-500h600v-160H180v160Zm220 220h160v-160H400v160Zm0 220h160v-160H400v160ZM180-400h160v-160H180v160Zm440 0h160v-160H620v160ZM180-180h160v-160H180v160Zm440 0h160v-160H620v160Z\"/>\n",
              "  </svg>\n",
              "    </button>\n",
              "\n",
              "  <style>\n",
              "    .colab-df-container {\n",
              "      display:flex;\n",
              "      gap: 12px;\n",
              "    }\n",
              "\n",
              "    .colab-df-convert {\n",
              "      background-color: #E8F0FE;\n",
              "      border: none;\n",
              "      border-radius: 50%;\n",
              "      cursor: pointer;\n",
              "      display: none;\n",
              "      fill: #1967D2;\n",
              "      height: 32px;\n",
              "      padding: 0 0 0 0;\n",
              "      width: 32px;\n",
              "    }\n",
              "\n",
              "    .colab-df-convert:hover {\n",
              "      background-color: #E2EBFA;\n",
              "      box-shadow: 0px 1px 2px rgba(60, 64, 67, 0.3), 0px 1px 3px 1px rgba(60, 64, 67, 0.15);\n",
              "      fill: #174EA6;\n",
              "    }\n",
              "\n",
              "    .colab-df-buttons div {\n",
              "      margin-bottom: 4px;\n",
              "    }\n",
              "\n",
              "    [theme=dark] .colab-df-convert {\n",
              "      background-color: #3B4455;\n",
              "      fill: #D2E3FC;\n",
              "    }\n",
              "\n",
              "    [theme=dark] .colab-df-convert:hover {\n",
              "      background-color: #434B5C;\n",
              "      box-shadow: 0px 1px 3px 1px rgba(0, 0, 0, 0.15);\n",
              "      filter: drop-shadow(0px 1px 2px rgba(0, 0, 0, 0.3));\n",
              "      fill: #FFFFFF;\n",
              "    }\n",
              "  </style>\n",
              "\n",
              "    <script>\n",
              "      const buttonEl =\n",
              "        document.querySelector('#df-50d48c72-71f3-4533-ab97-daef17e49648 button.colab-df-convert');\n",
              "      buttonEl.style.display =\n",
              "        google.colab.kernel.accessAllowed ? 'block' : 'none';\n",
              "\n",
              "      async function convertToInteractive(key) {\n",
              "        const element = document.querySelector('#df-50d48c72-71f3-4533-ab97-daef17e49648');\n",
              "        const dataTable =\n",
              "          await google.colab.kernel.invokeFunction('convertToInteractive',\n",
              "                                                    [key], {});\n",
              "        if (!dataTable) return;\n",
              "\n",
              "        const docLinkHtml = 'Like what you see? Visit the ' +\n",
              "          '<a target=\"_blank\" href=https://colab.research.google.com/notebooks/data_table.ipynb>data table notebook</a>'\n",
              "          + ' to learn more about interactive tables.';\n",
              "        element.innerHTML = '';\n",
              "        dataTable['output_type'] = 'display_data';\n",
              "        await google.colab.output.renderOutput(dataTable, element);\n",
              "        const docLink = document.createElement('div');\n",
              "        docLink.innerHTML = docLinkHtml;\n",
              "        element.appendChild(docLink);\n",
              "      }\n",
              "    </script>\n",
              "  </div>\n",
              "\n",
              "\n",
              "    </div>\n",
              "  </div>\n"
            ],
            "application/vnd.google.colaboratory.intrinsic+json": {
              "type": "dataframe"
            }
          },
          "metadata": {},
          "execution_count": 10
        }
      ]
    },
    {
      "cell_type": "markdown",
      "source": [
        "Chapel Hill is located"
      ],
      "metadata": {
        "id": "GI15pRVS7bY6"
      }
    },
    {
      "cell_type": "code",
      "source": [
        "df[1120:1121]"
      ],
      "metadata": {
        "colab": {
          "base_uri": "https://localhost:8080/",
          "height": 251
        },
        "id": "EFS0PgX275FJ",
        "outputId": "c903f768-62fd-4d39-e9bb-3a3f53417882"
      },
      "execution_count": 11,
      "outputs": [
        {
          "output_type": "execute_result",
          "data": {
            "text/plain": [
              "      Survey Year  UNITID  OPE ID  \\\n",
              "1120         2022  199120  297400   \n",
              "\n",
              "                                 Institution Name State CD  \\\n",
              "1120  University of North Carolina at Chapel Hill       NC   \n",
              "\n",
              "      Classification Name Classification Other  Sanction Code Sanction Name  \\\n",
              "1120  NCAA Division I-FBS                  NaN              1          NCAA   \n",
              "\n",
              "      Male Undergraduates  ...  Wrestling Total Expenses  \\\n",
              "1120                 7532  ...                 1651032.0   \n",
              "\n",
              "      Other Sports Men's Team Expenses  Other Sports Women's Team Expenses  \\\n",
              "1120                               NaN                                 NaN   \n",
              "\n",
              "      Other Sports Coed Team Expenses  Other Sports Total Expenses  \\\n",
              "1120                              NaN                          NaN   \n",
              "\n",
              "      Total Men's Team Expenses  Total Women's Team Expenses  \\\n",
              "1120                   70120955                     25582086   \n",
              "\n",
              "      Total Coed Team Expenses  Not Allocated by Gender/Sport Expenses  \\\n",
              "1120                       NaN                                41188309   \n",
              "\n",
              "      Grand Total Expenses  \n",
              "1120             136891350  \n",
              "\n",
              "[1 rows x 710 columns]"
            ],
            "text/html": [
              "\n",
              "  <div id=\"df-8f7c072b-0976-40f7-af47-7c97677b4253\" class=\"colab-df-container\">\n",
              "    <div>\n",
              "<style scoped>\n",
              "    .dataframe tbody tr th:only-of-type {\n",
              "        vertical-align: middle;\n",
              "    }\n",
              "\n",
              "    .dataframe tbody tr th {\n",
              "        vertical-align: top;\n",
              "    }\n",
              "\n",
              "    .dataframe thead th {\n",
              "        text-align: right;\n",
              "    }\n",
              "</style>\n",
              "<table border=\"1\" class=\"dataframe\">\n",
              "  <thead>\n",
              "    <tr style=\"text-align: right;\">\n",
              "      <th></th>\n",
              "      <th>Survey Year</th>\n",
              "      <th>UNITID</th>\n",
              "      <th>OPE ID</th>\n",
              "      <th>Institution Name</th>\n",
              "      <th>State CD</th>\n",
              "      <th>Classification Name</th>\n",
              "      <th>Classification Other</th>\n",
              "      <th>Sanction Code</th>\n",
              "      <th>Sanction Name</th>\n",
              "      <th>Male Undergraduates</th>\n",
              "      <th>...</th>\n",
              "      <th>Wrestling Total Expenses</th>\n",
              "      <th>Other Sports Men's Team Expenses</th>\n",
              "      <th>Other Sports Women's Team Expenses</th>\n",
              "      <th>Other Sports Coed Team Expenses</th>\n",
              "      <th>Other Sports Total Expenses</th>\n",
              "      <th>Total Men's Team Expenses</th>\n",
              "      <th>Total Women's Team Expenses</th>\n",
              "      <th>Total Coed Team Expenses</th>\n",
              "      <th>Not Allocated by Gender/Sport Expenses</th>\n",
              "      <th>Grand Total Expenses</th>\n",
              "    </tr>\n",
              "  </thead>\n",
              "  <tbody>\n",
              "    <tr>\n",
              "      <th>1120</th>\n",
              "      <td>2022</td>\n",
              "      <td>199120</td>\n",
              "      <td>297400</td>\n",
              "      <td>University of North Carolina at Chapel Hill</td>\n",
              "      <td>NC</td>\n",
              "      <td>NCAA Division I-FBS</td>\n",
              "      <td>NaN</td>\n",
              "      <td>1</td>\n",
              "      <td>NCAA</td>\n",
              "      <td>7532</td>\n",
              "      <td>...</td>\n",
              "      <td>1651032.0</td>\n",
              "      <td>NaN</td>\n",
              "      <td>NaN</td>\n",
              "      <td>NaN</td>\n",
              "      <td>NaN</td>\n",
              "      <td>70120955</td>\n",
              "      <td>25582086</td>\n",
              "      <td>NaN</td>\n",
              "      <td>41188309</td>\n",
              "      <td>136891350</td>\n",
              "    </tr>\n",
              "  </tbody>\n",
              "</table>\n",
              "<p>1 rows × 710 columns</p>\n",
              "</div>\n",
              "    <div class=\"colab-df-buttons\">\n",
              "\n",
              "  <div class=\"colab-df-container\">\n",
              "    <button class=\"colab-df-convert\" onclick=\"convertToInteractive('df-8f7c072b-0976-40f7-af47-7c97677b4253')\"\n",
              "            title=\"Convert this dataframe to an interactive table.\"\n",
              "            style=\"display:none;\">\n",
              "\n",
              "  <svg xmlns=\"http://www.w3.org/2000/svg\" height=\"24px\" viewBox=\"0 -960 960 960\">\n",
              "    <path d=\"M120-120v-720h720v720H120Zm60-500h600v-160H180v160Zm220 220h160v-160H400v160Zm0 220h160v-160H400v160ZM180-400h160v-160H180v160Zm440 0h160v-160H620v160ZM180-180h160v-160H180v160Zm440 0h160v-160H620v160Z\"/>\n",
              "  </svg>\n",
              "    </button>\n",
              "\n",
              "  <style>\n",
              "    .colab-df-container {\n",
              "      display:flex;\n",
              "      gap: 12px;\n",
              "    }\n",
              "\n",
              "    .colab-df-convert {\n",
              "      background-color: #E8F0FE;\n",
              "      border: none;\n",
              "      border-radius: 50%;\n",
              "      cursor: pointer;\n",
              "      display: none;\n",
              "      fill: #1967D2;\n",
              "      height: 32px;\n",
              "      padding: 0 0 0 0;\n",
              "      width: 32px;\n",
              "    }\n",
              "\n",
              "    .colab-df-convert:hover {\n",
              "      background-color: #E2EBFA;\n",
              "      box-shadow: 0px 1px 2px rgba(60, 64, 67, 0.3), 0px 1px 3px 1px rgba(60, 64, 67, 0.15);\n",
              "      fill: #174EA6;\n",
              "    }\n",
              "\n",
              "    .colab-df-buttons div {\n",
              "      margin-bottom: 4px;\n",
              "    }\n",
              "\n",
              "    [theme=dark] .colab-df-convert {\n",
              "      background-color: #3B4455;\n",
              "      fill: #D2E3FC;\n",
              "    }\n",
              "\n",
              "    [theme=dark] .colab-df-convert:hover {\n",
              "      background-color: #434B5C;\n",
              "      box-shadow: 0px 1px 3px 1px rgba(0, 0, 0, 0.15);\n",
              "      filter: drop-shadow(0px 1px 2px rgba(0, 0, 0, 0.3));\n",
              "      fill: #FFFFFF;\n",
              "    }\n",
              "  </style>\n",
              "\n",
              "    <script>\n",
              "      const buttonEl =\n",
              "        document.querySelector('#df-8f7c072b-0976-40f7-af47-7c97677b4253 button.colab-df-convert');\n",
              "      buttonEl.style.display =\n",
              "        google.colab.kernel.accessAllowed ? 'block' : 'none';\n",
              "\n",
              "      async function convertToInteractive(key) {\n",
              "        const element = document.querySelector('#df-8f7c072b-0976-40f7-af47-7c97677b4253');\n",
              "        const dataTable =\n",
              "          await google.colab.kernel.invokeFunction('convertToInteractive',\n",
              "                                                    [key], {});\n",
              "        if (!dataTable) return;\n",
              "\n",
              "        const docLinkHtml = 'Like what you see? Visit the ' +\n",
              "          '<a target=\"_blank\" href=https://colab.research.google.com/notebooks/data_table.ipynb>data table notebook</a>'\n",
              "          + ' to learn more about interactive tables.';\n",
              "        element.innerHTML = '';\n",
              "        dataTable['output_type'] = 'display_data';\n",
              "        await google.colab.output.renderOutput(dataTable, element);\n",
              "        const docLink = document.createElement('div');\n",
              "        docLink.innerHTML = docLinkHtml;\n",
              "        element.appendChild(docLink);\n",
              "      }\n",
              "    </script>\n",
              "  </div>\n",
              "\n",
              "\n",
              "    </div>\n",
              "  </div>\n"
            ],
            "application/vnd.google.colaboratory.intrinsic+json": {
              "type": "dataframe"
            }
          },
          "metadata": {},
          "execution_count": 11
        }
      ]
    },
    {
      "cell_type": "markdown",
      "source": [
        "To find Chapel Hill's total basketball and football revenue we could put the code below:"
      ],
      "metadata": {
        "id": "1spwwBE978Gs"
      }
    },
    {
      "cell_type": "code",
      "source": [
        "df[[\"Basketball Total Revenue\",\"Football Total Revenue\"]][288:289]"
      ],
      "metadata": {
        "colab": {
          "base_uri": "https://localhost:8080/",
          "height": 80
        },
        "id": "HB8LvKkK8AeU",
        "outputId": "a54ee028-0968-4d93-c926-1ca1c695f4c7"
      },
      "execution_count": 12,
      "outputs": [
        {
          "output_type": "execute_result",
          "data": {
            "text/plain": [
              "     Basketball Total Revenue  Football Total Revenue\n",
              "288                49185297.0              60949915.0"
            ],
            "text/html": [
              "\n",
              "  <div id=\"df-8a13ae39-c7e9-4b75-a1e9-18b5e948e2be\" class=\"colab-df-container\">\n",
              "    <div>\n",
              "<style scoped>\n",
              "    .dataframe tbody tr th:only-of-type {\n",
              "        vertical-align: middle;\n",
              "    }\n",
              "\n",
              "    .dataframe tbody tr th {\n",
              "        vertical-align: top;\n",
              "    }\n",
              "\n",
              "    .dataframe thead th {\n",
              "        text-align: right;\n",
              "    }\n",
              "</style>\n",
              "<table border=\"1\" class=\"dataframe\">\n",
              "  <thead>\n",
              "    <tr style=\"text-align: right;\">\n",
              "      <th></th>\n",
              "      <th>Basketball Total Revenue</th>\n",
              "      <th>Football Total Revenue</th>\n",
              "    </tr>\n",
              "  </thead>\n",
              "  <tbody>\n",
              "    <tr>\n",
              "      <th>288</th>\n",
              "      <td>49185297.0</td>\n",
              "      <td>60949915.0</td>\n",
              "    </tr>\n",
              "  </tbody>\n",
              "</table>\n",
              "</div>\n",
              "    <div class=\"colab-df-buttons\">\n",
              "\n",
              "  <div class=\"colab-df-container\">\n",
              "    <button class=\"colab-df-convert\" onclick=\"convertToInteractive('df-8a13ae39-c7e9-4b75-a1e9-18b5e948e2be')\"\n",
              "            title=\"Convert this dataframe to an interactive table.\"\n",
              "            style=\"display:none;\">\n",
              "\n",
              "  <svg xmlns=\"http://www.w3.org/2000/svg\" height=\"24px\" viewBox=\"0 -960 960 960\">\n",
              "    <path d=\"M120-120v-720h720v720H120Zm60-500h600v-160H180v160Zm220 220h160v-160H400v160Zm0 220h160v-160H400v160ZM180-400h160v-160H180v160Zm440 0h160v-160H620v160ZM180-180h160v-160H180v160Zm440 0h160v-160H620v160Z\"/>\n",
              "  </svg>\n",
              "    </button>\n",
              "\n",
              "  <style>\n",
              "    .colab-df-container {\n",
              "      display:flex;\n",
              "      gap: 12px;\n",
              "    }\n",
              "\n",
              "    .colab-df-convert {\n",
              "      background-color: #E8F0FE;\n",
              "      border: none;\n",
              "      border-radius: 50%;\n",
              "      cursor: pointer;\n",
              "      display: none;\n",
              "      fill: #1967D2;\n",
              "      height: 32px;\n",
              "      padding: 0 0 0 0;\n",
              "      width: 32px;\n",
              "    }\n",
              "\n",
              "    .colab-df-convert:hover {\n",
              "      background-color: #E2EBFA;\n",
              "      box-shadow: 0px 1px 2px rgba(60, 64, 67, 0.3), 0px 1px 3px 1px rgba(60, 64, 67, 0.15);\n",
              "      fill: #174EA6;\n",
              "    }\n",
              "\n",
              "    .colab-df-buttons div {\n",
              "      margin-bottom: 4px;\n",
              "    }\n",
              "\n",
              "    [theme=dark] .colab-df-convert {\n",
              "      background-color: #3B4455;\n",
              "      fill: #D2E3FC;\n",
              "    }\n",
              "\n",
              "    [theme=dark] .colab-df-convert:hover {\n",
              "      background-color: #434B5C;\n",
              "      box-shadow: 0px 1px 3px 1px rgba(0, 0, 0, 0.15);\n",
              "      filter: drop-shadow(0px 1px 2px rgba(0, 0, 0, 0.3));\n",
              "      fill: #FFFFFF;\n",
              "    }\n",
              "  </style>\n",
              "\n",
              "    <script>\n",
              "      const buttonEl =\n",
              "        document.querySelector('#df-8a13ae39-c7e9-4b75-a1e9-18b5e948e2be button.colab-df-convert');\n",
              "      buttonEl.style.display =\n",
              "        google.colab.kernel.accessAllowed ? 'block' : 'none';\n",
              "\n",
              "      async function convertToInteractive(key) {\n",
              "        const element = document.querySelector('#df-8a13ae39-c7e9-4b75-a1e9-18b5e948e2be');\n",
              "        const dataTable =\n",
              "          await google.colab.kernel.invokeFunction('convertToInteractive',\n",
              "                                                    [key], {});\n",
              "        if (!dataTable) return;\n",
              "\n",
              "        const docLinkHtml = 'Like what you see? Visit the ' +\n",
              "          '<a target=\"_blank\" href=https://colab.research.google.com/notebooks/data_table.ipynb>data table notebook</a>'\n",
              "          + ' to learn more about interactive tables.';\n",
              "        element.innerHTML = '';\n",
              "        dataTable['output_type'] = 'display_data';\n",
              "        await google.colab.output.renderOutput(dataTable, element);\n",
              "        const docLink = document.createElement('div');\n",
              "        docLink.innerHTML = docLinkHtml;\n",
              "        element.appendChild(docLink);\n",
              "      }\n",
              "    </script>\n",
              "  </div>\n",
              "\n",
              "\n",
              "    </div>\n",
              "  </div>\n"
            ],
            "application/vnd.google.colaboratory.intrinsic+json": {
              "type": "dataframe",
              "summary": "{\n  \"name\": \"df[[\\\"Basketball Total Revenue\\\",\\\"Football Total Revenue\\\"]][288:289]\",\n  \"rows\": 1,\n  \"fields\": [\n    {\n      \"column\": \"Basketball Total Revenue\",\n      \"properties\": {\n        \"dtype\": \"number\",\n        \"std\": null,\n        \"min\": 49185297.0,\n        \"max\": 49185297.0,\n        \"num_unique_values\": 1,\n        \"samples\": [\n          49185297.0\n        ],\n        \"semantic_type\": \"\",\n        \"description\": \"\"\n      }\n    },\n    {\n      \"column\": \"Football Total Revenue\",\n      \"properties\": {\n        \"dtype\": \"number\",\n        \"std\": null,\n        \"min\": 60949915.0,\n        \"max\": 60949915.0,\n        \"num_unique_values\": 1,\n        \"samples\": [\n          60949915.0\n        ],\n        \"semantic_type\": \"\",\n        \"description\": \"\"\n      }\n    }\n  ]\n}"
            }
          },
          "metadata": {},
          "execution_count": 12
        }
      ]
    },
    {
      "cell_type": "markdown",
      "source": [
        "So if we want to look at the code we need for the full context of our quesiton, this is what it would look like for UNC. For Duke all you would need to do is change the Rows that Duke is in and copy the rest over.\n",
        "\n",
        "\n",
        "\n",
        "## Exporting New Dataframe\n",
        "\n",
        "Before we can export our new dataframe as a .csv file, we have to rename our dataframe.\n",
        "\n",
        "The variable we will define our dataframe is \"UNC\". It is also necessary to add .copy() as the notation we will use tends to refer back to the original dataframe. We will add this to the previous line of code we just ran:"
      ],
      "metadata": {
        "id": "iVFl5esi8MLz"
      }
    },
    {
      "cell_type": "code",
      "source": [
        "UNC = df[[\"Basketball Total Revenue\",\"Football Total Revenue\",\"Basketball Total Expenses\",\"Football Total Expenses\"]][1120:1121].copy()"
      ],
      "metadata": {
        "id": "EL5b7Zu08n-P"
      },
      "execution_count": 13,
      "outputs": []
    },
    {
      "cell_type": "code",
      "source": [
        "Duke = df[[\"Basketball Total Revenue\",\"Football Total Revenue\",\"Basketball Total Expenses\",\"Football Total Expenses\"]][288:289].copy()"
      ],
      "metadata": {
        "id": "jBsK4zj88uv8"
      },
      "execution_count": 14,
      "outputs": []
    },
    {
      "cell_type": "markdown",
      "source": [
        "## Exporting as a .csv File.\n",
        "\n",
        "The code that we will use is .to_csv(). We will add the file name that we want and .extension (.csv) in the parentheses.\n",
        "\n",
        "For our dataframe we will code the following:"
      ],
      "metadata": {
        "id": "gg9DXsJD853f"
      }
    },
    {
      "cell_type": "code",
      "source": [
        "UNC.to_csv(\"UNC_subset.csv\")"
      ],
      "metadata": {
        "id": "pFOz1tPt89O2"
      },
      "execution_count": 18,
      "outputs": []
    },
    {
      "cell_type": "code",
      "source": [
        "Duke.to_csv(\"Duke.csv\")"
      ],
      "metadata": {
        "id": "Bj_03wYx9wH_"
      },
      "execution_count": 19,
      "outputs": []
    },
    {
      "cell_type": "markdown",
      "source": [
        "this will export a .csv file in our working directory.\n",
        "\n",
        "By exporting this into a .csv, it will have the row of indices that pandas created using the .read_csv function from the original dataframe file.\n",
        "\n",
        "We will put index=False function inside the paraenthis to tell the program to not add the index numbers to our new .csv file."
      ],
      "metadata": {
        "id": "WDip1vFv9xgW"
      }
    },
    {
      "cell_type": "code",
      "source": [
        "UNC.to_csv(\"UNC.csv\", index=False)"
      ],
      "metadata": {
        "id": "RsPf6xk892ti"
      },
      "execution_count": 20,
      "outputs": []
    },
    {
      "cell_type": "code",
      "source": [
        "Duke.to_csv(\"Duke.csv\", index=False)"
      ],
      "metadata": {
        "id": "nOvXJYfX96ft"
      },
      "execution_count": 21,
      "outputs": []
    },
    {
      "cell_type": "markdown",
      "source": [
        "## All done!\n",
        "\n",
        "If you look in your directory, you should see both dataframes.\n",
        "\n",
        "If it is not in your directory, then make sure all the code that what shown above was inputed properly.\n",
        "\n",
        "## Our Findings:\n",
        "First Question: Does Football or Basketball have produce more revenue when comparing UNC Chapel Hill and Duke University?\n",
        "\n",
        "When looking at our data Subsets, Football produces much more money for both schools when compared to their basketball revenues. UNC Chapel Hill does produce more money for Football with $67,249,397.00\n",
        "\n",
        "\n",
        "compared to Duke's $60,949,915.00.\n",
        "\n",
        "Second Question: Which sport has more costs at those schools?\n",
        "\n",
        "\n",
        "Similar to the Answer above, Football also costs more at both of these schools. UNC Chapel Hill spent $44,472,525.00\n",
        "\n",
        "when compared to Duke's $39,371,987.00."
      ],
      "metadata": {
        "id": "mNew8cwE99S2"
      }
    }
  ]
}